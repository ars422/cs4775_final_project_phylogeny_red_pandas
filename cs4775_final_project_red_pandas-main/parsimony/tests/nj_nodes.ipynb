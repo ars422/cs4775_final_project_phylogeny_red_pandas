{
 "cells": [
  {
   "cell_type": "code",
   "execution_count": 77,
   "metadata": {},
   "outputs": [],
   "source": [
    "from newick import loads\n",
    "from newick import read"
   ]
  },
  {
   "cell_type": "code",
   "execution_count": 2,
   "metadata": {},
   "outputs": [],
   "source": [
    "class Node():\n",
    "    ''' Initializes a node with given parameters. From A3 2a.py\n",
    "\n",
    "    Arguments:\n",
    "        name: name of node (only relevant for leaves)\n",
    "        left: left child (Node)\n",
    "        right: right child (Node)\n",
    "    '''\n",
    "    def __init__(self, name, left, right):\n",
    "        self.name = name\n",
    "        self.left = left\n",
    "        self.right = right"
   ]
  },
  {
   "cell_type": "code",
   "execution_count": 3,
   "metadata": {},
   "outputs": [],
   "source": [
    "# indexed at 0, so it has a dummy H0 that will not be used\n",
    "H = []\n",
    "for i in range(54):\n",
    "  H.append(Node(\"H\" + str(i), None, None))"
   ]
  },
  {
   "cell_type": "code",
   "execution_count": 4,
   "metadata": {},
   "outputs": [
    {
     "name": "stdout",
     "output_type": "stream",
     "text": [
      "    ┌─A\n",
      "──F─┼─B\n",
      "    │   ┌─C\n",
      "    └─E─┤\n",
      "        └─D\n",
      "F\n",
      "[[], [], [Node(\"C\"), Node(\"D\")]]\n",
      "[Node(\"A\"), Node(\"B\"), Node(\"E\")]\n"
     ]
    }
   ],
   "source": [
    "newick_string = \"(A:0.1,B:0.2,(C:0.3,D:0.4)E:0.5)F;\"\n",
    "tree = loads(newick_string)[0]\n",
    "print(tree.ascii_art())\n",
    "\n",
    "# Access nodes in the tree\n",
    "print(tree.name)  # F\n",
    "print([n.descendants for n in tree.descendants])  # ['A', 'B', 'E']\n",
    "print(tree.descendants)"
   ]
  },
  {
   "cell_type": "code",
   "execution_count": 5,
   "metadata": {},
   "outputs": [],
   "source": [
    "def post_order(root):\n",
    "    if root != None:\n",
    "        result = [root.name]\n",
    "        for n in root.descendants:\n",
    "            result = post_order(n) + result\n",
    "        return result\n",
    "    else:\n",
    "        return []\n",
    "    \n",
    "nj_dict = {}\n",
    "count = 1\n",
    "def create_tree(root):\n",
    "    if root != None:\n",
    "        name = root.name\n",
    "\n",
    "        if name == None:\n",
    "            name = \"I\" + str(count)\n",
    "\n",
    "        nj_dict[name] = []\n",
    "\n",
    "        for n in root.descendants:\n",
    "            if n.name == None:\n",
    "                count = count + 1\n",
    "            nj_dict[name].append(create_tree(n))\n",
    "\n",
    "        return name\n",
    "    \n",
    "    else:\n",
    "        return []"
   ]
  },
  {
   "cell_type": "code",
   "execution_count": 6,
   "metadata": {},
   "outputs": [],
   "source": [
    "class Tree():\n",
    "    ''' Initializes a tree with given parameters.\n",
    "\n",
    "    Arguments:\n",
    "        count: starting count for internal nodes (int)\n",
    "        root: root of tree (Node)\n",
    "        format_dict: each key is a label for a node mapping to a list of \n",
    "            the names of its children nodes\n",
    "            (dict with keys as strings and items as lists of strings)\n",
    "    '''\n",
    "    def __init__(self, count, root):\n",
    "        self.count = count\n",
    "        self.root = root\n",
    "        self.format_dict = {}\n",
    "\n",
    "    '''Recursively creates a format_dict from the given root node\n",
    "        input:  parent: the root node of the tree (Node from the newick library)\n",
    "    '''\n",
    "    def create_tree(self, parent):\n",
    "        if parent != None:\n",
    "            name = parent.name\n",
    "\n",
    "            if name == None:\n",
    "                name = \"I\" + str(self.count)\n",
    "\n",
    "            self.format_dict[name] = []\n",
    "\n",
    "            for n in parent.descendants:\n",
    "                if n.name == None:\n",
    "                    self.count = self.count + 1\n",
    "                self.format_dict[name].append(self.create_tree(n))\n",
    "\n",
    "            return name\n",
    "        \n",
    "        else:\n",
    "            return []"
   ]
  },
  {
   "cell_type": "code",
   "execution_count": 7,
   "metadata": {},
   "outputs": [
    {
     "data": {
      "text/plain": [
       "['D', 'C', 'E', 'B', 'A', 'F']"
      ]
     },
     "execution_count": 7,
     "metadata": {},
     "output_type": "execute_result"
    }
   ],
   "source": [
    "post_order(tree)"
   ]
  },
  {
   "cell_type": "code",
   "execution_count": 8,
   "metadata": {},
   "outputs": [
    {
     "name": "stdout",
     "output_type": "stream",
     "text": [
      "{'F': ['A', 'B', 'E'], 'A': [], 'B': [], 'E': ['C', 'D'], 'C': [], 'D': []}\n"
     ]
    }
   ],
   "source": [
    "tst = Tree(1, tree)\n",
    "tst.create_tree(tree)\n",
    "print(tst.format_dict)"
   ]
  },
  {
   "cell_type": "code",
   "execution_count": 9,
   "metadata": {},
   "outputs": [],
   "source": [
    "nj_newick = \"((HQ992964.1:0.009801, ((HQ992967.1:0.006329, AF291586.2:0.007497):0.001608, (((HQ992975.1:0.007220, (AY849734.1:0.006738, AY849716.1:0.007087):0.012594):0.006436, (((MT891307.1:0.006635, HQ992970.1:0.011856):0.006557, ((((HQ992978.1:0.002646, (AF291581.2:0.001918, HQ992965.1:0.004963):0.001948):0.003689, (HQ992969.1:0.003126, AF291585.2:0.003755):0.000361):0.002854, (HQ992966.1:0.017244, (HQ992974.1:0.002841, AY849721.1:0.004040):0.003681):0.001843):0.003716, ((MT891296.1:0.005974, (MT891298.1:0.002834, MT891300.1:0.006354):0.000938):0.007321, ((MT891295.1:0.004965, (HQ992985.1:0.007388, (MT891297.1:0.004644, MT891294.1:0.004544):0.001847):0.001948):0.004581, (MT891306.1:0.002503, (MT891304.1:0.014300, (MT891299.1:0.002205, (MT891305.1:0.004514, (MT891302.1:0.002112, (MT891301.1:0.006916, MT891303.1:0.011575):0.000149):0.002405):0.000076):0.001495):0.001144):0.001425):0.003603):0.003762):0.000907):0.001928, (AF291583.2:0.010963, ((MT891308.1:0.008849, (((HQ992980.1:0.005906, AY849731.1:0.010248):0.003757, (HQ992984.1:0.005731, MT891309.1:0.008094):0.000920):0.003093, (HQ992982.1:0.008279, ((HQ992968.1:0.005489, HQ992971.1:0.010665):0.002199, (AY849715.1:0.005954, (AF291579.2:0.006098, AF291582.2:0.007727):0.002123):0.000141):0.002138):0.001019):0.000690):0.005387, (AF291584.2:0.007851, HQ992973.1:0.012983):0.001698):0.001661):0.001065):0.001099):0.000975, ((HQ992983.1:0.007949, AY849733.1:0.010542):0.002695, (AY849729.1:0.007352, (MT891310.1:0.006215, (HQ992976.1:0.006035, (HQ992977.1:0.007522, AY849725.1:0.006304):0.002042):0.001864):0.000143):0.002140):0.001676):0.008108):0.003072):0.005517, HQ992981.1:0.005517);\""
   ]
  },
  {
   "cell_type": "code",
   "execution_count": 10,
   "metadata": {},
   "outputs": [
    {
     "name": "stdout",
     "output_type": "stream",
     "text": [
      "((HQ992964.1:0.009801, ((HQ992967.1:0.006329, AF291586.2:0.007497):0.001608, (((HQ992975.1:0.007220, (AY849734.1:0.006738, AY849716.1:0.007087):0.012594):0.006436, (((MT891307.1:0.006635, HQ992970.1:0.011856):0.006557, ((((HQ992978.1:0.002646, (AF291581.2:0.001918, HQ992965.1:0.004963):0.001948):0.003689, (HQ992969.1:0.003126, AF291585.2:0.003755):0.000361):0.002854, (HQ992966.1:0.017244, (HQ992974.1:0.002841, AY849721.1:0.004040):0.003681):0.001843):0.003716, ((MT891296.1:0.005974, (MT891298.1:0.002834, MT891300.1:0.006354):0.000938):0.007321, ((MT891295.1:0.004965, (HQ992985.1:0.007388, (MT891297.1:0.004644, MT891294.1:0.004544):0.001847):0.001948):0.004581, (MT891306.1:0.002503, (MT891304.1:0.014300, (MT891299.1:0.002205, (MT891305.1:0.004514, (MT891302.1:0.002112, (MT891301.1:0.006916, MT891303.1:0.011575):0.000149):0.002405):0.000076):0.001495):0.001144):0.001425):0.003603):0.003762):0.000907):0.001928, (AF291583.2:0.010963, ((MT891308.1:0.008849, (((HQ992980.1:0.005906, AY849731.1:0.010248):0.003757, (HQ992984.1:0.005731, MT891309.1:0.008094):0.000920):0.003093, (HQ992982.1:0.008279, ((HQ992968.1:0.005489, HQ992971.1:0.010665):0.002199, (AY849715.1:0.005954, (AF291579.2:0.006098, AF291582.2:0.007727):0.002123):0.000141):0.002138):0.001019):0.000690):0.005387, (AF291584.2:0.007851, HQ992973.1:0.012983):0.001698):0.001661):0.001065):0.001099):0.000975, ((HQ992983.1:0.007949, AY849733.1:0.010542):0.002695, (AY849729.1:0.007352, (MT891310.1:0.006215, (HQ992976.1:0.006035, (HQ992977.1:0.007522, AY849725.1:0.006304):0.002042):0.001864):0.000143):0.002140):0.001676):0.008108):0.003072):0.005517, HQ992981.1:0.005517);\n"
     ]
    }
   ],
   "source": [
    "print(nj_newick)"
   ]
  },
  {
   "cell_type": "code",
   "execution_count": 11,
   "metadata": {},
   "outputs": [
    {
     "name": "stdout",
     "output_type": "stream",
     "text": [
      "['HQ992981.1', 'AY849725.1', 'HQ992977.1', None, 'HQ992976.1', None, 'MT891310.1', None, 'AY849729.1', None, 'AY849733.1', 'HQ992983.1', None, None, 'HQ992973.1', 'AF291584.2', None, 'AF291582.2', 'AF291579.2', None, 'AY849715.1', None, 'HQ992971.1', 'HQ992968.1', None, None, 'HQ992982.1', None, 'MT891309.1', 'HQ992984.1', None, 'AY849731.1', 'HQ992980.1', None, None, None, 'MT891308.1', None, None, 'AF291583.2', None, 'MT891303.1', 'MT891301.1', None, 'MT891302.1', None, 'MT891305.1', None, 'MT891299.1', None, 'MT891304.1', None, 'MT891306.1', None, 'MT891294.1', 'MT891297.1', None, 'HQ992985.1', None, 'MT891295.1', None, None, 'MT891300.1', 'MT891298.1', None, 'MT891296.1', None, None, 'AY849721.1', 'HQ992974.1', None, 'HQ992966.1', None, 'AF291585.2', 'HQ992969.1', None, 'HQ992965.1', 'AF291581.2', None, 'HQ992978.1', None, None, None, None, 'HQ992970.1', 'MT891307.1', None, None, None, 'AY849716.1', 'AY849734.1', None, 'HQ992975.1', None, None, None, 'AF291586.2', 'HQ992967.1', None, None, 'HQ992964.1', None, None]\n"
     ]
    }
   ],
   "source": [
    "nj_tree = loads(nj_newick)\n",
    "nj_post_order = post_order(nj_tree[0])\n",
    "print(nj_post_order)\n"
   ]
  },
  {
   "cell_type": "code",
   "execution_count": 12,
   "metadata": {},
   "outputs": [
    {
     "name": "stdout",
     "output_type": "stream",
     "text": [
      "                          ┌─HQ992964.1\n",
      "                          │                         ┌─HQ992967.1\n",
      "                          │            ┌────────────┤\n",
      "                          │            │            └─AF291586.2\n",
      "                          │            │                                      ┌─HQ992975.1\n",
      "                          │            │                         ┌────────────┤\n",
      "                          │            │                         │            │            ┌─AY849734.1\n",
      "                          │            │                         │            └────────────┤\n",
      "                          │            │                         │                         └─AY849716.1\n",
      "                          │            │                         │                                      ┌─MT891307.1\n",
      "                          │            │                         │                         ┌────────────┤\n",
      "                          │            │                         │                         │            └─HQ992970.1\n",
      "             ┌────────────┤            │                         │                         │\n",
      "             │            │            │                         │                         │                                                   ┌─HQ992978.1\n",
      "             │            │            │                         │                         │                                      ┌────────────┤\n",
      "             │            │            │                         │                         │                                      │            │            ┌─AF291581.2\n",
      "             │            │            │                         │                         │                                      │            └────────────┤\n",
      "             │            │            │                         │                         │                         ┌────────────┤                         └─HQ992965.1\n",
      "             │            │            │                         │            ┌────────────┤                         │            │\n",
      "             │            │            │                         │            │            │                         │            │            ┌─HQ992969.1\n",
      "             │            │            │                         │            │            │            ┌────────────┤            └────────────┤\n",
      "             │            │            │                         │            │            │            │            │                         └─AF291585.2\n",
      "             │            │            │            ┌────────────┤            │            │            │            │\n",
      "             │            │            │            │            │            │            │            │            │            ┌─HQ992966.1\n",
      "             │            │            │            │            │            │            │            │            └────────────┤\n",
      "             │            │            │            │            │            │            │            │                         │            ┌─HQ992974.1\n",
      "             │            │            │            │            │            │            │            │                         └────────────┤\n",
      "             │            └────────────┤            │            │            │            └────────────┤                                      └─AY849721.1\n",
      "             │                         │            │            │            │                         │                         ┌─MT891296.1\n",
      "             │                         │            │            │            │                         │            ┌────────────┤\n",
      "             │                         │            │            │            │                         │            │            │            ┌─MT891298.1\n",
      "             │                         │            │            │            │                         │            │            └────────────┤\n",
      "             │                         │            │            │            │                         │            │                         └─MT891300.1\n",
      "             │                         │            │            │            │                         └────────────┤                         ┌─MT891295.1\n",
      "             │                         │            │            │            │                                      │            ┌────────────┤\n",
      "             │                         │            │            │            │                                      │            │            │            ┌─HQ992985.1\n",
      "             │                         │            │            │            │                                      │            │            └────────────┤\n",
      "             │                         │            │            │            │                                      │            │                         │            ┌─MT891297.1\n",
      "             │                         │            │            │            │                                      └────────────┤                         └────────────┤\n",
      "             │                         │            │            └────────────┤                                                   │                                      └─MT891294.1\n",
      "             │                         │            │                         │                                                   │            ┌─MT891306.1\n",
      "             │                         │            │                         │                                                   └────────────┤\n",
      "             │                         │            │                         │                                                                │            ┌─MT891304.1\n",
      "             │                         │            │                         │                                                                └────────────┤\n",
      "             │                         │            │                         │                                                                             │            ┌─MT891299.1\n",
      "             │                         │            │                         │                                                                             └────────────┤\n",
      "             │                         │            │                         │                                                                                          │            ┌─MT891305.1\n",
      "             │                         │            │                         │                                                                                          └────────────┤\n",
      "             │                         │            │                         │                                                                                                       │            ┌─MT891302.1\n",
      "             │                         │            │                         │                                                                                                       └────────────┤\n",
      "             │                         │            │                         │                                                                                                                    │            ┌─MT891301.1\n",
      "             │                         │            │                         │                                                                                                                    └────────────┤\n",
      "─────────────┤                         └────────────┤                         │                                                                                                                                 └─MT891303.1\n",
      "             │                                      │                         │            ┌─AF291583.2\n",
      "             │                                      │                         │            │                         ┌─MT891308.1\n",
      "             │                                      │                         │            │                         │                                      ┌─HQ992980.1\n",
      "             │                                      │                         │            │                         │                         ┌────────────┤\n",
      "             │                                      │                         │            │            ┌────────────┤                         │            └─AY849731.1\n",
      "             │                                      │                         └────────────┤            │            │            ┌────────────┤\n",
      "             │                                      │                                      │            │            │            │            │            ┌─HQ992984.1\n",
      "             │                                      │                                      │            │            │            │            └────────────┤\n",
      "             │                                      │                                      │            │            └────────────┤                         └─MT891309.1\n",
      "             │                                      │                                      │            │                         │            ┌─HQ992982.1\n",
      "             │                                      │                                      │            │                         └────────────┤                         ┌─HQ992968.1\n",
      "             │                                      │                                      └────────────┤                                      │            ┌────────────┤\n",
      "             │                                      │                                                   │                                      │            │            └─HQ992971.1\n",
      "             │                                      │                                                   │                                      └────────────┤\n",
      "             │                                      │                                                   │                                                   │            ┌─AY849715.1\n",
      "             │                                      │                                                   │                                                   └────────────┤\n",
      "             │                                      │                                                   │                                                                │            ┌─AF291579.2\n",
      "             │                                      │                                                   │                                                                └────────────┤\n",
      "             │                                      │                                                   │                                                                             └─AF291582.2\n",
      "             │                                      │                                                   │            ┌─AF291584.2\n",
      "             │                                      │                                                   └────────────┤\n",
      "             │                                      │                                                                └─HQ992973.1\n",
      "             │                                      │                         ┌─HQ992983.1\n",
      "             │                                      │            ┌────────────┤\n",
      "             │                                      │            │            └─AY849733.1\n",
      "             │                                      └────────────┤\n",
      "             │                                                   │            ┌─AY849729.1\n",
      "             │                                                   └────────────┤\n",
      "             │                                                                │            ┌─MT891310.1\n",
      "             │                                                                └────────────┤\n",
      "             │                                                                             │            ┌─HQ992976.1\n",
      "             │                                                                             └────────────┤\n",
      "             │                                                                                          │            ┌─HQ992977.1\n",
      "             │                                                                                          └────────────┤\n",
      "             │                                                                                                       └─AY849725.1\n",
      "             └─HQ992981.1\n"
     ]
    }
   ],
   "source": [
    "print(nj_tree[0].ascii_art())"
   ]
  },
  {
   "cell_type": "code",
   "execution_count": 13,
   "metadata": {},
   "outputs": [
    {
     "name": "stdout",
     "output_type": "stream",
     "text": [
      "{'I1': ['I2', 'HQ992981.1'], 'I2': ['HQ992964.1', 'I3'], 'HQ992964.1': [], 'I3': ['I4', 'I5'], 'I4': ['HQ992967.1', 'AF291586.2'], 'HQ992967.1': [], 'AF291586.2': [], 'I5': ['I6', 'I46'], 'I6': ['I7', 'I9'], 'I7': ['HQ992975.1', 'I8'], 'HQ992975.1': [], 'I8': ['AY849734.1', 'AY849716.1'], 'AY849734.1': [], 'AY849716.1': [], 'I9': ['I10', 'I33'], 'I10': ['I11', 'I12'], 'I11': ['MT891307.1', 'HQ992970.1'], 'MT891307.1': [], 'HQ992970.1': [], 'I12': ['I13', 'I20'], 'I13': ['I14', 'I18'], 'I14': ['I15', 'I17'], 'I15': ['HQ992978.1', 'I16'], 'HQ992978.1': [], 'I16': ['AF291581.2', 'HQ992965.1'], 'AF291581.2': [], 'HQ992965.1': [], 'I17': ['HQ992969.1', 'AF291585.2'], 'HQ992969.1': [], 'AF291585.2': [], 'I18': ['HQ992966.1', 'I19'], 'HQ992966.1': [], 'I19': ['HQ992974.1', 'AY849721.1'], 'HQ992974.1': [], 'AY849721.1': [], 'I20': ['I21', 'I23'], 'I21': ['MT891296.1', 'I22'], 'MT891296.1': [], 'I22': ['MT891298.1', 'MT891300.1'], 'MT891298.1': [], 'MT891300.1': [], 'I23': ['I24', 'I27'], 'I24': ['MT891295.1', 'I25'], 'MT891295.1': [], 'I25': ['HQ992985.1', 'I26'], 'HQ992985.1': [], 'I26': ['MT891297.1', 'MT891294.1'], 'MT891297.1': [], 'MT891294.1': [], 'I27': ['MT891306.1', 'I28'], 'MT891306.1': [], 'I28': ['MT891304.1', 'I29'], 'MT891304.1': [], 'I29': ['MT891299.1', 'I30'], 'MT891299.1': [], 'I30': ['MT891305.1', 'I31'], 'MT891305.1': [], 'I31': ['MT891302.1', 'I32'], 'MT891302.1': [], 'I32': ['MT891301.1', 'MT891303.1'], 'MT891301.1': [], 'MT891303.1': [], 'I33': ['AF291583.2', 'I34'], 'AF291583.2': [], 'I34': ['I35', 'I45'], 'I35': ['MT891308.1', 'I36'], 'MT891308.1': [], 'I36': ['I37', 'I40'], 'I37': ['I38', 'I39'], 'I38': ['HQ992980.1', 'AY849731.1'], 'HQ992980.1': [], 'AY849731.1': [], 'I39': ['HQ992984.1', 'MT891309.1'], 'HQ992984.1': [], 'MT891309.1': [], 'I40': ['HQ992982.1', 'I41'], 'HQ992982.1': [], 'I41': ['I42', 'I43'], 'I42': ['HQ992968.1', 'HQ992971.1'], 'HQ992968.1': [], 'HQ992971.1': [], 'I43': ['AY849715.1', 'I44'], 'AY849715.1': [], 'I44': ['AF291579.2', 'AF291582.2'], 'AF291579.2': [], 'AF291582.2': [], 'I45': ['AF291584.2', 'HQ992973.1'], 'AF291584.2': [], 'HQ992973.1': [], 'I46': ['I47', 'I48'], 'I47': ['HQ992983.1', 'AY849733.1'], 'HQ992983.1': [], 'AY849733.1': [], 'I48': ['AY849729.1', 'I49'], 'AY849729.1': [], 'I49': ['MT891310.1', 'I50'], 'MT891310.1': [], 'I50': ['HQ992976.1', 'I51'], 'HQ992976.1': [], 'I51': ['HQ992977.1', 'AY849725.1'], 'HQ992977.1': [], 'AY849725.1': [], 'HQ992981.1': []}\n"
     ]
    }
   ],
   "source": [
    "t = Tree(1, nj_tree[0])\n",
    "t.create_tree(nj_tree[0])\n",
    "nj_dict = t.format_dict\n",
    "print(nj_dict)"
   ]
  },
  {
   "cell_type": "code",
   "execution_count": 63,
   "metadata": {},
   "outputs": [],
   "source": [
    "'''\n",
    "    input: filename: filename which has the mapping between haplotypes and IDs\n",
    "    output: map_hap: a dictionary which maps ID -> haplotype\n",
    "'''\n",
    "def read_map_txt(filename):\n",
    "    map_hap = {}\n",
    "    with open(filename, \"r\") as f:\n",
    "      for l in f.readlines():\n",
    "        temp_lst = l.split()\n",
    "        map_hap[temp_lst[1]] = temp_lst[0]\n",
    "      return map_hap\n",
    "    \n",
    "def read_rev_map_txt(filename):\n",
    "    map_hap = {}\n",
    "    with open(filename, \"r\") as f:\n",
    "      for l in f.readlines():\n",
    "        temp_lst = l.split()\n",
    "        map_hap[temp_lst[0]] = temp_lst[1]\n",
    "      return map_hap"
   ]
  },
  {
   "cell_type": "code",
   "execution_count": 49,
   "metadata": {},
   "outputs": [
    {
     "name": "stdout",
     "output_type": "stream",
     "text": [
      "HQ992981.1\n",
      "AY849725.1\n",
      "HQ992977.1\n",
      "I51\n",
      "HQ992976.1\n",
      "I50\n",
      "MT891310.1\n",
      "I49\n",
      "AY849729.1\n",
      "I48\n",
      "AY849733.1\n",
      "HQ992983.1\n",
      "I47\n",
      "I46\n",
      "HQ992973.1\n",
      "AF291584.2\n",
      "I45\n",
      "AF291582.2\n",
      "AF291579.2\n",
      "I44\n",
      "AY849715.1\n",
      "I43\n",
      "HQ992971.1\n",
      "HQ992968.1\n",
      "I42\n",
      "I41\n",
      "HQ992982.1\n",
      "I40\n",
      "MT891309.1\n",
      "HQ992984.1\n",
      "I39\n",
      "AY849731.1\n",
      "HQ992980.1\n",
      "I38\n",
      "I37\n",
      "I36\n",
      "MT891308.1\n",
      "I35\n",
      "I34\n",
      "AF291583.2\n",
      "I33\n",
      "MT891303.1\n",
      "MT891301.1\n",
      "I32\n",
      "MT891302.1\n",
      "I31\n",
      "MT891305.1\n",
      "I30\n",
      "MT891299.1\n",
      "I29\n",
      "MT891304.1\n",
      "I28\n",
      "MT891306.1\n",
      "I27\n",
      "MT891294.1\n",
      "MT891297.1\n",
      "I26\n",
      "HQ992985.1\n",
      "I25\n",
      "MT891295.1\n",
      "I24\n",
      "I23\n",
      "MT891300.1\n",
      "MT891298.1\n",
      "I22\n",
      "MT891296.1\n",
      "I21\n",
      "I20\n",
      "AY849721.1\n",
      "HQ992974.1\n",
      "I19\n",
      "HQ992966.1\n",
      "I18\n",
      "AF291585.2\n",
      "HQ992969.1\n",
      "I17\n",
      "HQ992965.1\n",
      "AF291581.2\n",
      "I16\n",
      "HQ992978.1\n",
      "I15\n",
      "I14\n",
      "I13\n",
      "I12\n",
      "HQ992970.1\n",
      "MT891307.1\n",
      "I11\n",
      "I10\n",
      "I9\n",
      "AY849716.1\n",
      "AY849734.1\n",
      "I8\n",
      "HQ992975.1\n",
      "I7\n",
      "I6\n",
      "I5\n",
      "AF291586.2\n",
      "HQ992967.1\n",
      "I4\n",
      "I3\n",
      "HQ992964.1\n",
      "I2\n",
      "I1\n"
     ]
    }
   ],
   "source": [
    "map_hap = read_map_txt(\"mapping_haplotypes.txt\")\n",
    "\n",
    "'''Returns the IDs of a nodes left and right children\n",
    "    input:  key: the name of the parent node (string)\n",
    "            t_dict: the dictionary mapping nodes to their children\n",
    "            map_hap: the dictionary mapping haplotypes to their ID\n",
    "'''\n",
    "def get_kids(key, t_dict, map_hap):\n",
    "    kid1 = t_dict[key][0]\n",
    "    kid2 = t_dict[key][1]\n",
    "\n",
    "    if kid1[0] != 'I':\n",
    "        kid1 = map_hap[kid1]\n",
    "    if kid2[0] != 'I':\n",
    "        kid2 = map_hap[kid2]\n",
    "\n",
    "    return kid1, kid2\n",
    "\n",
    "''' Returns the node for the given ID\n",
    "    inputs: kid: the ID of a node (string)\n",
    "            I: a list of internal nodes\n",
    "            H: a list of haplotype leaf nodes\n",
    "    output: kid: the node corresponding to that ID\n",
    "'''\n",
    "def kid_node(kid, I, H):\n",
    "    id = int(kid[1:])\n",
    "\n",
    "    if kid[0] =='I':\n",
    "        kid = I[id]\n",
    "    else: kid = H[id]\n",
    "\n",
    "    return kid\n",
    "\n",
    "H = [None] * 54\n",
    "I = [None] * (len(nj_dict.keys()) - 51)\n",
    "\n",
    "for key in list(reversed(nj_dict.keys())):\n",
    "    print(key)\n",
    "    if key[0] == 'I':\n",
    "        kid1, kid2 = get_kids(key)\n",
    "        I[int(key[1:])] = Node(key, kid_node(kid1), kid_node(kid2))\n",
    "    else:\n",
    "        hap = map_hap[key]\n",
    "        H[int(hap[1:])] = Node(hap, None, None)\n"
   ]
  },
  {
   "cell_type": "markdown",
   "metadata": {},
   "source": []
  },
  {
   "cell_type": "code",
   "execution_count": 56,
   "metadata": {},
   "outputs": [
    {
     "name": "stdout",
     "output_type": "stream",
     "text": [
      "I1\n",
      "I2\n",
      "I3\n",
      "I4\n",
      "I5\n",
      "I6\n",
      "I7\n",
      "I8\n",
      "I9\n",
      "I10\n",
      "I11\n",
      "I12\n",
      "I13\n",
      "I14\n",
      "I15\n",
      "I16\n",
      "I17\n",
      "I18\n",
      "I19\n",
      "I20\n",
      "I21\n",
      "I22\n",
      "I23\n",
      "I24\n",
      "I25\n",
      "I26\n",
      "I27\n",
      "I28\n",
      "I29\n",
      "I30\n",
      "I31\n",
      "I32\n",
      "I33\n",
      "I34\n",
      "I35\n",
      "I36\n",
      "I37\n",
      "I38\n",
      "I39\n",
      "I40\n",
      "I41\n",
      "I42\n",
      "I43\n",
      "I44\n",
      "I45\n",
      "I46\n",
      "I47\n",
      "I48\n",
      "I49\n",
      "I50\n",
      "I51\n"
     ]
    }
   ],
   "source": [
    "for x in I:\n",
    "    if x != None:\n",
    "        print(x.name)"
   ]
  },
  {
   "cell_type": "code",
   "execution_count": 57,
   "metadata": {},
   "outputs": [
    {
     "name": "stdout",
     "output_type": "stream",
     "text": [
      "H2\n",
      "H3\n",
      "H4\n",
      "H5\n",
      "H6\n",
      "H7\n",
      "H8\n",
      "H9\n",
      "H10\n",
      "H11\n",
      "H12\n",
      "H13\n",
      "H14\n",
      "H15\n",
      "H16\n",
      "H17\n",
      "H18\n",
      "H19\n",
      "H20\n",
      "H21\n",
      "H22\n",
      "H23\n",
      "H24\n",
      "H25\n",
      "H26\n",
      "H27\n",
      "H28\n",
      "H29\n",
      "H30\n",
      "H31\n",
      "H32\n",
      "H33\n",
      "H34\n",
      "H35\n",
      "H36\n",
      "H37\n",
      "H38\n",
      "H39\n",
      "H40\n",
      "H41\n",
      "H42\n",
      "H43\n",
      "H44\n",
      "H45\n",
      "H46\n",
      "H47\n",
      "H48\n",
      "H49\n",
      "H50\n",
      "H51\n",
      "H52\n",
      "H53\n"
     ]
    }
   ],
   "source": [
    "for x in H:\n",
    "    if x != None:\n",
    "        print(x.name)"
   ]
  },
  {
   "cell_type": "code",
   "execution_count": 58,
   "metadata": {},
   "outputs": [
    {
     "data": {
      "text/plain": [
       "103"
      ]
     },
     "execution_count": 58,
     "metadata": {},
     "output_type": "execute_result"
    }
   ],
   "source": [
    "len(nj_dict.keys())"
   ]
  },
  {
   "cell_type": "code",
   "execution_count": 67,
   "metadata": {},
   "outputs": [],
   "source": [
    "def generate_newick(root, mapping = None):\n",
    "    ''' Complete this function. '''\n",
    "    def display(root): #this is from discussion\n",
    "        if root.right is None and root.left is None:\n",
    "            if mapping == None: \n",
    "                return str(root.name)\n",
    "            else: \n",
    "                return mapping[root.name]\n",
    "        elif root.right is None or root.left is None:\n",
    "            return '%s' % (generate_newick(display[root][0]))\n",
    "        [left_child, right_child] = [root.left, root.right]\n",
    "        return '(%s, %s)' % (display(left_child), display(right_child))\n",
    "    return display(root) + ';'"
   ]
  },
  {
   "cell_type": "code",
   "execution_count": 68,
   "metadata": {},
   "outputs": [],
   "source": [
    "rev_map_hap = read_rev_map_txt(\"mapping_haplotypes.txt\")\n",
    "nj_nwk_res = generate_newick(I[1], rev_map_hap)"
   ]
  },
  {
   "cell_type": "code",
   "execution_count": 69,
   "metadata": {},
   "outputs": [
    {
     "name": "stdout",
     "output_type": "stream",
     "text": [
      "((HQ992964.1, ((HQ992967.1, AF291586.2), (((HQ992975.1, (AY849734.1, AY849716.1)), (((MT891307.1, HQ992970.1), ((((HQ992978.1, (AF291581.2, HQ992965.1)), (HQ992969.1, AF291585.2)), (HQ992966.1, (HQ992974.1, AY849721.1))), ((MT891296.1, (MT891298.1, MT891300.1)), ((MT891295.1, (HQ992985.1, (MT891297.1, MT891294.1))), (MT891306.1, (MT891304.1, (MT891299.1, (MT891305.1, (MT891302.1, (MT891301.1, MT891303.1)))))))))), (AF291583.2, ((MT891308.1, (((HQ992980.1, AY849731.1), (HQ992984.1, MT891309.1)), (HQ992982.1, ((HQ992968.1, HQ992971.1), (AY849715.1, (AF291579.2, AF291582.2)))))), (AF291584.2, HQ992973.1))))), ((HQ992983.1, AY849733.1), (AY849729.1, (MT891310.1, (HQ992976.1, (HQ992977.1, AY849725.1)))))))), HQ992981.1);\n"
     ]
    }
   ],
   "source": [
    "print(nj_nwk_res)"
   ]
  },
  {
   "cell_type": "code",
   "execution_count": 66,
   "metadata": {},
   "outputs": [
    {
     "data": {
      "text/plain": [
       "{'H1': 'MT891293.1',\n",
       " 'H2': 'MT891294.1',\n",
       " 'H3': 'MT891295.1',\n",
       " 'H4': 'MT891296.1',\n",
       " 'H5': 'MT891297.1',\n",
       " 'H6': 'MT891298.1',\n",
       " 'H7': 'MT891299.1',\n",
       " 'H8': 'MT891300.1',\n",
       " 'H9': 'MT891307.1',\n",
       " 'H10': 'MT891308.1',\n",
       " 'H11': 'MT891301.1',\n",
       " 'H12': 'MT891302.1',\n",
       " 'H13': 'MT891303.1',\n",
       " 'H14': 'MT891304.1',\n",
       " 'H15': 'MT891309.1',\n",
       " 'H16': 'MT891305.1',\n",
       " 'H17': 'MT891306.1',\n",
       " 'H18': 'MT891310.1',\n",
       " 'H19': 'HQ992985.1',\n",
       " 'H20': 'HQ992977.1',\n",
       " 'H21': 'AY849729.1',\n",
       " 'H22': 'HQ992978.1',\n",
       " 'H23': 'HQ992973.1',\n",
       " 'H24': 'AY849725.1',\n",
       " 'H25': 'AF291584.2',\n",
       " 'H26': 'HQ992976.1',\n",
       " 'H27': 'AF291581.2',\n",
       " 'H28': 'HQ992984.1',\n",
       " 'H29': 'HQ992982.1',\n",
       " 'H30': 'HQ992980.1',\n",
       " 'H31': 'HQ992975.1',\n",
       " 'H32': 'HQ992974.1',\n",
       " 'H33': 'HQ992970.1',\n",
       " 'H34': 'HQ992969.1',\n",
       " 'H35': 'HQ992965.1',\n",
       " 'H36': 'AY849734.1',\n",
       " 'H37': 'AY849715.1',\n",
       " 'H38': 'AF291583.2',\n",
       " 'H39': 'HQ992983.1',\n",
       " 'H40': 'HQ992968.1',\n",
       " 'H41': 'AY849721.1',\n",
       " 'H42': 'AY849716.1',\n",
       " 'H43': 'AF291585.2',\n",
       " 'H44': 'AF291579.2',\n",
       " 'H45': 'HQ992967.1',\n",
       " 'H46': 'HQ992966.1',\n",
       " 'H47': 'AY849733.1',\n",
       " 'H48': 'AY849731.1',\n",
       " 'H49': 'AF291582.2',\n",
       " 'H50': 'HQ992971.1',\n",
       " 'H51': 'AF291586.2',\n",
       " 'H52': 'HQ992964.1',\n",
       " 'H53': 'HQ992981.1'}"
      ]
     },
     "execution_count": 66,
     "metadata": {},
     "output_type": "execute_result"
    }
   ],
   "source": [
    "rev_map_hap"
   ]
  },
  {
   "cell_type": "code",
   "execution_count": 71,
   "metadata": {},
   "outputs": [],
   "source": [
    "weigh_nwk = \"((HQ992975.1:0.012469,(HQ992967.1:0.011902,(AF291586.2:0.014078,(HQ992964.1:0.019344,(HQ992966.1:0.024529,(HQ992981.1:0.022613,(AY849734.1:0.006718,AY849716.1:0.007107):0.025716):0.026652):0.021807):0.019590):0.017275):0.020218):0.023156,(((MT891294.1:0.011633,(HQ992985.1:0.019944,AF291583.2:0.019909):0.012843):0.009883,(MT891293.1:0.007192,(MT891297.1:0.008317,MT891295.1:0.007838):0.007820):0.009190):0.016433,((MT891302.1:0.012191,(HQ992965.1:0.017702,(MT891301.1:0.020946,MT891307.1:0.021319):0.018557):0.015039):0.015340,(AY849721.1:0.012695,(MT891299.1:0.011433,MT891310.1:0.011753):0.015219):0.011444):0.014000):0.016587,(((HQ992982.1:0.012611,(AF291579.2:0.014543,(HQ992980.1:0.015653,((MT891303.1:0.025992,AY849731.1:0.025998):0.019992,(MT891304.1:0.025837,HQ992971.1:0.026152):0.019389):0.018918):0.017743):0.016960):0.016260,((HQ992984.1:0.011533,(HQ992968.1:0.013680,(MT891309.1:0.016582,(AF291582.2:0.020567,HQ992970.1:0.021698):0.017300):0.015087):0.013468):0.012842,(AY849715.1:0.009327,MT891308.1:0.009164):0.010623):0.014810):0.021668,(((HQ992983.1:0.011208,(MT891300.1:0.015839,(HQ992973.1:0.017817,AY849733.1:0.017237):0.016830):0.013562):0.016322,(MT891306.1:0.006630,(MT891305.1:0.011847,(MT891296.1:0.005127,MT891298.1:0.004062):0.013701):0.010325):0.012812):0.014971,((AY849729.1:0.007568,(HQ992976.1:0.007984,(HQ992977.1:0.010446,(AF291584.2:0.012761,AY849725.1:0.012783):0.010421):0.009738):0.010929):0.015098,((HQ992978.1:0.004693,(AF291581.2:0.007693,HQ992974.1:0.008461):0.005660):0.006709,(HQ992969.1:0.002925,AF291585.2:0.003956):0.005185):0.014433):0.014086):0.014676):0.017828);\""
   ]
  },
  {
   "cell_type": "code",
   "execution_count": 72,
   "metadata": {},
   "outputs": [
    {
     "name": "stdout",
     "output_type": "stream",
     "text": [
      "['AF291585.2', 'HQ992969.1', None, 'HQ992974.1', 'AF291581.2', None, 'HQ992978.1', None, None, 'AY849725.1', 'AF291584.2', None, 'HQ992977.1', None, 'HQ992976.1', None, 'AY849729.1', None, None, 'MT891298.1', 'MT891296.1', None, 'MT891305.1', None, 'MT891306.1', None, 'AY849733.1', 'HQ992973.1', None, 'MT891300.1', None, 'HQ992983.1', None, None, None, 'MT891308.1', 'AY849715.1', None, 'HQ992970.1', 'AF291582.2', None, 'MT891309.1', None, 'HQ992968.1', None, 'HQ992984.1', None, None, 'HQ992971.1', 'MT891304.1', None, 'AY849731.1', 'MT891303.1', None, None, 'HQ992980.1', None, 'AF291579.2', None, 'HQ992982.1', None, None, None, 'MT891310.1', 'MT891299.1', None, 'AY849721.1', None, 'MT891307.1', 'MT891301.1', None, 'HQ992965.1', None, 'MT891302.1', None, None, 'MT891295.1', 'MT891297.1', None, 'MT891293.1', None, 'AF291583.2', 'HQ992985.1', None, 'MT891294.1', None, None, None, 'AY849716.1', 'AY849734.1', None, 'HQ992981.1', None, 'HQ992966.1', None, 'HQ992964.1', None, 'AF291586.2', None, 'HQ992967.1', None, 'HQ992975.1', None, None]\n",
      "{'I1': ['I2', 'I9', 'I21'], 'I2': ['HQ992975.1', 'I3'], 'HQ992975.1': [], 'I3': ['HQ992967.1', 'I4'], 'HQ992967.1': [], 'I4': ['AF291586.2', 'I5'], 'AF291586.2': [], 'I5': ['HQ992964.1', 'I6'], 'HQ992964.1': [], 'I6': ['HQ992966.1', 'I7'], 'HQ992966.1': [], 'I7': ['HQ992981.1', 'I8'], 'HQ992981.1': [], 'I8': ['AY849734.1', 'AY849716.1'], 'AY849734.1': [], 'AY849716.1': [], 'I9': ['I10', 'I15'], 'I10': ['I11', 'I13'], 'I11': ['MT891294.1', 'I12'], 'MT891294.1': [], 'I12': ['HQ992985.1', 'AF291583.2'], 'HQ992985.1': [], 'AF291583.2': [], 'I13': ['MT891293.1', 'I14'], 'MT891293.1': [], 'I14': ['MT891297.1', 'MT891295.1'], 'MT891297.1': [], 'MT891295.1': [], 'I15': ['I16', 'I19'], 'I16': ['MT891302.1', 'I17'], 'MT891302.1': [], 'I17': ['HQ992965.1', 'I18'], 'HQ992965.1': [], 'I18': ['MT891301.1', 'MT891307.1'], 'MT891301.1': [], 'MT891307.1': [], 'I19': ['AY849721.1', 'I20'], 'AY849721.1': [], 'I20': ['MT891299.1', 'MT891310.1'], 'MT891299.1': [], 'MT891310.1': [], 'I21': ['I22', 'I35'], 'I22': ['I23', 'I29'], 'I23': ['HQ992982.1', 'I24'], 'HQ992982.1': [], 'I24': ['AF291579.2', 'I25'], 'AF291579.2': [], 'I25': ['HQ992980.1', 'I26'], 'HQ992980.1': [], 'I26': ['I27', 'I28'], 'I27': ['MT891303.1', 'AY849731.1'], 'MT891303.1': [], 'AY849731.1': [], 'I28': ['MT891304.1', 'HQ992971.1'], 'MT891304.1': [], 'HQ992971.1': [], 'I29': ['I30', 'I34'], 'I30': ['HQ992984.1', 'I31'], 'HQ992984.1': [], 'I31': ['HQ992968.1', 'I32'], 'HQ992968.1': [], 'I32': ['MT891309.1', 'I33'], 'MT891309.1': [], 'I33': ['AF291582.2', 'HQ992970.1'], 'AF291582.2': [], 'HQ992970.1': [], 'I34': ['AY849715.1', 'MT891308.1'], 'AY849715.1': [], 'MT891308.1': [], 'I35': ['I36', 'I43'], 'I36': ['I37', 'I40'], 'I37': ['HQ992983.1', 'I38'], 'HQ992983.1': [], 'I38': ['MT891300.1', 'I39'], 'MT891300.1': [], 'I39': ['HQ992973.1', 'AY849733.1'], 'HQ992973.1': [], 'AY849733.1': [], 'I40': ['MT891306.1', 'I41'], 'MT891306.1': [], 'I41': ['MT891305.1', 'I42'], 'MT891305.1': [], 'I42': ['MT891296.1', 'MT891298.1'], 'MT891296.1': [], 'MT891298.1': [], 'I43': ['I44', 'I48'], 'I44': ['AY849729.1', 'I45'], 'AY849729.1': [], 'I45': ['HQ992976.1', 'I46'], 'HQ992976.1': [], 'I46': ['HQ992977.1', 'I47'], 'HQ992977.1': [], 'I47': ['AF291584.2', 'AY849725.1'], 'AF291584.2': [], 'AY849725.1': [], 'I48': ['I49', 'I51'], 'I49': ['HQ992978.1', 'I50'], 'HQ992978.1': [], 'I50': ['AF291581.2', 'HQ992974.1'], 'AF291581.2': [], 'HQ992974.1': [], 'I51': ['HQ992969.1', 'AF291585.2'], 'HQ992969.1': [], 'AF291585.2': []}\n"
     ]
    }
   ],
   "source": [
    "weigh_tree = loads(weigh_nwk)\n",
    "weigh_post_order = post_order(weigh_tree[0])\n",
    "print(weigh_post_order)\n",
    "\n",
    "tw = Tree(1, weigh_tree[0])\n",
    "tw.create_tree(weigh_tree[0])\n",
    "weigh_dict = tw.format_dict\n",
    "print(weigh_dict)"
   ]
  },
  {
   "cell_type": "code",
   "execution_count": 73,
   "metadata": {},
   "outputs": [
    {
     "name": "stdout",
     "output_type": "stream",
     "text": [
      "AF291585.2\n",
      "HQ992969.1\n",
      "I51\n",
      "HQ992974.1\n",
      "AF291581.2\n",
      "I50\n",
      "HQ992978.1\n",
      "I49\n",
      "I48\n",
      "AY849725.1\n",
      "AF291584.2\n",
      "I47\n",
      "HQ992977.1\n",
      "I46\n",
      "HQ992976.1\n",
      "I45\n",
      "AY849729.1\n",
      "I44\n",
      "I43\n",
      "MT891298.1\n",
      "MT891296.1\n",
      "I42\n",
      "MT891305.1\n",
      "I41\n",
      "MT891306.1\n",
      "I40\n",
      "AY849733.1\n",
      "HQ992973.1\n",
      "I39\n",
      "MT891300.1\n",
      "I38\n",
      "HQ992983.1\n",
      "I37\n",
      "I36\n",
      "I35\n",
      "MT891308.1\n",
      "AY849715.1\n",
      "I34\n",
      "HQ992970.1\n",
      "AF291582.2\n",
      "I33\n",
      "MT891309.1\n",
      "I32\n",
      "HQ992968.1\n",
      "I31\n",
      "HQ992984.1\n",
      "I30\n",
      "I29\n",
      "HQ992971.1\n",
      "MT891304.1\n",
      "I28\n",
      "AY849731.1\n",
      "MT891303.1\n",
      "I27\n",
      "I26\n",
      "HQ992980.1\n",
      "I25\n",
      "AF291579.2\n",
      "I24\n",
      "HQ992982.1\n",
      "I23\n",
      "I22\n",
      "I21\n",
      "MT891310.1\n",
      "MT891299.1\n",
      "I20\n",
      "AY849721.1\n",
      "I19\n",
      "MT891307.1\n",
      "MT891301.1\n",
      "I18\n",
      "HQ992965.1\n",
      "I17\n",
      "MT891302.1\n",
      "I16\n",
      "I15\n",
      "MT891295.1\n",
      "MT891297.1\n",
      "I14\n",
      "MT891293.1\n",
      "I13\n",
      "AF291583.2\n",
      "HQ992985.1\n",
      "I12\n",
      "MT891294.1\n",
      "I11\n",
      "I10\n",
      "I9\n",
      "AY849716.1\n",
      "AY849734.1\n",
      "I8\n",
      "HQ992981.1\n",
      "I7\n",
      "HQ992966.1\n",
      "I6\n",
      "HQ992964.1\n",
      "I5\n",
      "AF291586.2\n",
      "I4\n",
      "HQ992967.1\n",
      "I3\n",
      "HQ992975.1\n",
      "I2\n",
      "I1\n"
     ]
    }
   ],
   "source": [
    "Hw = [None] * 54\n",
    "Iw = [None] * (len(weigh_dict.keys()) - 51)\n",
    "\n",
    "for key in list(reversed(weigh_dict.keys())):\n",
    "    print(key)\n",
    "    if key[0] == 'I':\n",
    "        kid1, kid2 = get_kids(key)\n",
    "        Iw[int(key[1:])] = Node(key, kid_node(kid1), kid_node(kid2))\n",
    "    else:\n",
    "        hap = map_hap[key]\n",
    "        Hw[int(hap[1:])] = Node(hap, None, None)"
   ]
  },
  {
   "cell_type": "code",
   "execution_count": 75,
   "metadata": {},
   "outputs": [
    {
     "name": "stdout",
     "output_type": "stream",
     "text": [
      "I1\n",
      "I2\n",
      "I3\n",
      "I4\n",
      "I5\n",
      "I6\n",
      "I7\n",
      "I8\n",
      "I9\n",
      "I10\n",
      "I11\n",
      "I12\n",
      "I13\n",
      "I14\n",
      "I15\n",
      "I16\n",
      "I17\n",
      "I18\n",
      "I19\n",
      "I20\n",
      "I21\n",
      "I22\n",
      "I23\n",
      "I24\n",
      "I25\n",
      "I26\n",
      "I27\n",
      "I28\n",
      "I29\n",
      "I30\n",
      "I31\n",
      "I32\n",
      "I33\n",
      "I34\n",
      "I35\n",
      "I36\n",
      "I37\n",
      "I38\n",
      "I39\n",
      "I40\n",
      "I41\n",
      "I42\n",
      "I43\n",
      "I44\n",
      "I45\n",
      "I46\n",
      "I47\n",
      "I48\n",
      "I49\n",
      "I50\n",
      "I51\n"
     ]
    }
   ],
   "source": [
    "for x in Iw:\n",
    "    if x != None:\n",
    "        print(x.name)"
   ]
  },
  {
   "cell_type": "code",
   "execution_count": 87,
   "metadata": {},
   "outputs": [
    {
     "name": "stdout",
     "output_type": "stream",
     "text": [
      "/Users/anabellafalk/cs4775/cs4775_final/cs4775_final_project_red_pandas/parsimony\n"
     ]
    },
    {
     "name": "stderr",
     "output_type": "stream",
     "text": [
      "/Users/anabellafalk/Library/Python/3.9/lib/python/site-packages/IPython/core/magics/osm.py:417: UserWarning: using dhist requires you to install the `pickleshare` library.\n",
      "  self.shell.db['dhist'] = compress_dhist(dhist)[-100:]\n"
     ]
    }
   ],
   "source": []
  },
  {
   "cell_type": "code",
   "execution_count": null,
   "metadata": {},
   "outputs": [],
   "source": []
  }
 ],
 "metadata": {
  "kernelspec": {
   "display_name": "Python 3",
   "language": "python",
   "name": "python3"
  },
  "language_info": {
   "codemirror_mode": {
    "name": "ipython",
    "version": 3
   },
   "file_extension": ".py",
   "mimetype": "text/x-python",
   "name": "python",
   "nbconvert_exporter": "python",
   "pygments_lexer": "ipython3",
   "version": "3.9.6"
  }
 },
 "nbformat": 4,
 "nbformat_minor": 2
}
