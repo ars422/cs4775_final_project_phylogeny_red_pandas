{
 "cells": [
  {
   "cell_type": "code",
   "execution_count": 4,
   "metadata": {},
   "outputs": [],
   "source": [
    "import numpy as np"
   ]
  },
  {
   "cell_type": "code",
   "execution_count": 5,
   "metadata": {},
   "outputs": [],
   "source": [
    "class Node():\n",
    "    ''' Initializes a node with given parameters. From A3 2a.py\n",
    "\n",
    "    Arguments:\n",
    "        name: name of node (only relevant for leaves)\n",
    "        left: left child (Node)\n",
    "        right: right child (Node)\n",
    "    '''\n",
    "    def __init__(self, name, left, right):\n",
    "        self.name = name\n",
    "        self.left = left\n",
    "        self.right = right"
   ]
  },
  {
   "cell_type": "code",
   "execution_count": 6,
   "metadata": {},
   "outputs": [],
   "source": [
    "def post_order(root):\n",
    "    if root != None:\n",
    "        return post_order(root.left) + post_order(root.right) + [root]\n",
    "    else:\n",
    "        return []"
   ]
  },
  {
   "cell_type": "code",
   "execution_count": 7,
   "metadata": {},
   "outputs": [],
   "source": [
    "h1 = Node(\"H1\", None, None)\n",
    "h2 = Node(\"H2\", None, None)\n",
    "h3 = Node(\"H3\", None, None)\n",
    "h4 = Node(\"H4\", None, None)\n",
    "i2 = Node(\"I2\", h1, h2)\n",
    "i3 = Node(\"I3\", h3, h4)\n",
    "i1 = Node(\"I1\", i2, i3)"
   ]
  },
  {
   "cell_type": "code",
   "execution_count": 36,
   "metadata": {},
   "outputs": [],
   "source": [
    "''' \n",
    "Input:\n",
    "    seqs = list of sequences\n",
    "Output:\n",
    "    D = dictionary of sequences with haplotype labels as the keys (H1, H2 etc.)\n",
    "'''\n",
    "def sequence_dict(seqs):\n",
    "    D = {}\n",
    "    n = len(seqs)\n",
    "\n",
    "    for x in range(n):\n",
    "        D[\"H\" + str(x+1)] = seqs[x]\n",
    "\n",
    "    return D\n",
    "\n",
    "\n",
    "'''\n",
    "Input:\n",
    "    D = dictionary of sequences\n",
    "    lst = Post order traversal\n",
    "Output:\n",
    "    min_score_matrix = dictionary of dictionaries: minimum score matrix (4 states per internal node)\n",
    "'''\n",
    "def sankoff(D, lst):\n",
    "    char_list = ['A', 'C', 'G', 'T']\n",
    "    min_score_matrix = {}\n",
    "    index = 8\n",
    "\n",
    "    # Traverse through nodes in post order\n",
    "    for node in lst:\n",
    "        min_score_matrix[node.name] = {'A' : np.inf, 'C' : np.inf, 'G' : np.inf, 'T' : np.inf}\n",
    "\n",
    "        # Check if the node is a leaf\n",
    "        if node.left is None and node.right is None:\n",
    "            # Set the value for its state to be 0\n",
    "            char = D[node.name][index]\n",
    "            min_score_matrix[node.name][char] = 0\n",
    "\n",
    "        else: \n",
    "            # recurrence relation: s(i) = min_j[c_ij + s_l(j)] + min_k[c_ik + s_r(k)]\n",
    "            for char in char_list:\n",
    "                # Get min left sum if there is a left child\n",
    "                min_left = 0\n",
    "                if node.left is not None:\n",
    "                    min_left = np.inf\n",
    "                    for left_char in char_list:\n",
    "                        left_sum = min_score_matrix[node.left.name][left_char]\n",
    "                        if char != left_char: left_sum += 1\n",
    "                        min_left = min(min_left, left_sum)\n",
    "\n",
    "                # Get min right sum if there is a right child\n",
    "                min_right = 0\n",
    "                if node.right is not None:\n",
    "                    min_right = np.inf\n",
    "                    for right_char in char_list:\n",
    "                        right_sum = min_score_matrix[node.right.name][right_char]\n",
    "                        if char != right_char: right_sum += 1\n",
    "                        min_right = min(min_right, right_sum)\n",
    "\n",
    "                min_score_matrix[node.name][char] = min_left + min_right\n",
    "\n",
    "    return min_score_matrix\n",
    "\n",
    "'''\n",
    "Input:\n",
    "    lst = Node: root of the tree\n",
    "    min_score_matrix = dictionary of dictionaries: minimum score matrix (4 states per internal node)\n",
    "\n",
    "Output: \n",
    "    state_matrix = dictionary: minimum score matrix (1 key per internal node)\n",
    "'''\n",
    "def backtrace(min_score_matrix, root):\n",
    "    state_matrix = {}\n",
    "    char_list = ['A', 'C', 'G', 'T']\n",
    "\n",
    "    state = None\n",
    "    min_score = np.inf\n",
    "    score_dict = min_score_matrix[root.name]\n",
    "\n",
    "    # Get state with minimum parismony score for the root node\n",
    "    for char in score_dict:\n",
    "        curr_score = score_dict[char]\n",
    "        if curr_score < min_score:\n",
    "            min_score = curr_score\n",
    "            state = char\n",
    "        \n",
    "    state_matrix[root.name] = state\n",
    "    \n",
    "    # Backtrace on the rest of the tree\n",
    "    def recursive_call(node, score, char):\n",
    "        # Loop through pairs of characters for children\n",
    "        for left_char in char_list:\n",
    "            for right_char in char_list:\n",
    "                left_score = 0\n",
    "                left_cost = 0\n",
    "                right_score = 0\n",
    "                right_cost = 0\n",
    "\n",
    "                # Get the score for the children \n",
    "                if node.left is not None:\n",
    "                    left_score = min_score_matrix[node.left.name][left_char]\n",
    "                    if left_char != char: left_cost = 1\n",
    "                if node.right is not None:\n",
    "                    right_score = min_score_matrix[node.right.name][right_char]\n",
    "                    if right_char != char: right_cost = 1\n",
    "\n",
    "                # Check that the sum of the children's score equals this nodes min score\n",
    "                if left_score + left_cost + right_score + right_cost == score:\n",
    "                    # Set scores for children and recurse\n",
    "                    if node.left is not None:\n",
    "                        state_matrix[node.left.name] = left_char\n",
    "                        recursive_call(node.left, left_score, left_char)\n",
    "\n",
    "                    if node.right is not None:\n",
    "                        state_matrix[node.right.name] = right_char\n",
    "                        recursive_call(node.right, right_score, right_char)\n",
    "         \n",
    "\n",
    "    recursive_call(root, min_score, state)\n",
    "\n",
    "    return state_matrix"
   ]
  },
  {
   "cell_type": "code",
   "execution_count": 37,
   "metadata": {},
   "outputs": [
    {
     "name": "stdout",
     "output_type": "stream",
     "text": [
      "{'H1': 'ATGAAGGGTAGGTTCTGTGGGTGA', 'H2': 'ATGAAGGGAAGGTTCTGTGGGTGA', 'H3': 'ATGAGGGGTAGGTTCTGTGGGTGA', 'H4': 'ATGAGGGGTAGGTTCTGTGGGTGA'}\n"
     ]
    }
   ],
   "source": [
    "root = i1\n",
    "# test with a3 data\n",
    "sequences = [\"ATGAAGGGTAGGTTCTGTGGGTGA\", \"ATGAAGGGAAGGTTCTGTGGGTGA\", \"ATGAGGGGTAGGTTCTGTGGGTGA\", \"ATGAGGGGTAGGTTCTGTGGGTGA\"]\n",
    "D = sequence_dict(sequences)\n",
    "print(D)"
   ]
  },
  {
   "cell_type": "code",
   "execution_count": 38,
   "metadata": {},
   "outputs": [
    {
     "name": "stdout",
     "output_type": "stream",
     "text": [
      "H1\n",
      "H2\n",
      "I2\n",
      "H3\n",
      "H4\n",
      "I3\n",
      "I1\n"
     ]
    }
   ],
   "source": [
    "# Get root node and traverse tree in post order\n",
    "post_order_lst = post_order(root)\n",
    "\n",
    "for node in post_order_lst:\n",
    "    print(node.name)"
   ]
  },
  {
   "cell_type": "code",
   "execution_count": 39,
   "metadata": {},
   "outputs": [],
   "source": [
    "# Run sankoff's algorithm to get the state for each node\n",
    "min_score_matrix = sankoff(D, post_order_lst)\n",
    "state_matrix = backtrace(min_score_matrix, root)"
   ]
  },
  {
   "cell_type": "code",
   "execution_count": 40,
   "metadata": {},
   "outputs": [
    {
     "name": "stdout",
     "output_type": "stream",
     "text": [
      "{'H1': {'A': inf, 'C': inf, 'G': inf, 'T': 0}, 'H2': {'A': 0, 'C': inf, 'G': inf, 'T': inf}, 'I2': {'A': 1, 'C': 2, 'G': 2, 'T': 1}, 'H3': {'A': inf, 'C': inf, 'G': inf, 'T': 0}, 'H4': {'A': inf, 'C': inf, 'G': inf, 'T': 0}, 'I3': {'A': 2, 'C': 2, 'G': 2, 'T': 0}, 'I1': {'A': 2, 'C': 3, 'G': 3, 'T': 1}}\n"
     ]
    }
   ],
   "source": [
    "print(min_score_matrix)"
   ]
  },
  {
   "cell_type": "code",
   "execution_count": 41,
   "metadata": {},
   "outputs": [
    {
     "name": "stdout",
     "output_type": "stream",
     "text": [
      "{'I1': 'T', 'I2': 'T', 'H1': 'T', 'H2': 'A', 'I3': 'T', 'H3': 'T', 'H4': 'T'}\n"
     ]
    }
   ],
   "source": [
    "print(state_matrix)"
   ]
  },
  {
   "cell_type": "code",
   "execution_count": null,
   "metadata": {},
   "outputs": [],
   "source": []
  }
 ],
 "metadata": {
  "kernelspec": {
   "display_name": "Python 3",
   "language": "python",
   "name": "python3"
  },
  "language_info": {
   "codemirror_mode": {
    "name": "ipython",
    "version": 3
   },
   "file_extension": ".py",
   "mimetype": "text/x-python",
   "name": "python",
   "nbconvert_exporter": "python",
   "pygments_lexer": "ipython3",
   "version": "3.9.6"
  }
 },
 "nbformat": 4,
 "nbformat_minor": 2
}
