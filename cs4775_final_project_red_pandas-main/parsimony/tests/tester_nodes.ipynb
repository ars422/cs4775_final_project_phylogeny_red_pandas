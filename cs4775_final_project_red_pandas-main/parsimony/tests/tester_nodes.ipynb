{
 "cells": [
  {
   "cell_type": "code",
   "execution_count": 2,
   "metadata": {},
   "outputs": [],
   "source": [
    "class Node():\n",
    "    ''' Initializes a node with given parameters. From A3 2a.py\n",
    "\n",
    "    Arguments:\n",
    "        name: name of node (only relevant for leaves)\n",
    "        left: left child (Node)\n",
    "        right: right child (Node)\n",
    "    '''\n",
    "    def __init__(self, name, left, right):\n",
    "        self.name = name\n",
    "        self.left = left\n",
    "        self.right = right\n"
   ]
  },
  {
   "cell_type": "code",
   "execution_count": 3,
   "metadata": {},
   "outputs": [],
   "source": [
    "def post_order(root):\n",
    "    if root != None:\n",
    "        return post_order(root.left) + post_order(root.right) + [root.name]\n",
    "    else:\n",
    "        return []"
   ]
  },
  {
   "cell_type": "code",
   "execution_count": 3,
   "metadata": {},
   "outputs": [],
   "source": [
    "# indexed at 0, so it has a dummy H0 that will not be used\n",
    "H = []\n",
    "for i in range(54):\n",
    "  H.append(Node(\"H\" + str(i), None, None))"
   ]
  },
  {
   "cell_type": "markdown",
   "metadata": {},
   "source": [
    "Clade 1: ailurus fulgens"
   ]
  },
  {
   "cell_type": "code",
   "execution_count": 4,
   "metadata": {},
   "outputs": [],
   "source": [
    "i15 = Node(\"I15\", H[4], H[6])\n",
    "i14 = Node(\"I14\", i15, H[8])\n",
    "\n",
    "i10 = Node(\"I10\", H[1],H[5])\n",
    "i9 = Node(\"I9\", i10, H[2])\n",
    "i8 = Node(\"I8\", i9, H[19])\n",
    "i5 = Node(\"I5\", i8, H[3])\n",
    "\n",
    "i12 = Node(\"I12\", H[16], H[7])\n",
    "i13 = Node(\"I13\", H[11], H[12])\n",
    "i11 = Node(\"I11\", i13, H[13])\n",
    "i7 = Node(\"I7\", i12, i11)\n",
    "i6 = Node(\"I6\", i7, H[14])\n",
    "i4 = Node(\"I4\", H[17], i6)\n",
    "\n",
    "i3 = Node(\"I3\", i5, i4)\n",
    "i2 = Node(\"I2\", i14, i3)"
   ]
  },
  {
   "cell_type": "markdown",
   "metadata": {},
   "source": [
    "Clade 2: Ailurus styani"
   ]
  },
  {
   "cell_type": "code",
   "execution_count": 5,
   "metadata": {},
   "outputs": [],
   "source": [
    "i39 = Node(\"I39\", H[33], H[9])\n",
    "i40 = Node(\"I40\", H[34], H[43])\n",
    "i43 = Node(\"I43\", H[27], H[35])\n",
    "i44 = Node(\"I44\", H[41], H[32])\n",
    "i46 = Node(\"I46\", H[36], H[42])\n",
    "i27 = Node(\"I27\", H[23], H[25])\n",
    "i47 = Node(\"I47\", H[45], H[51])\n",
    "i48 = Node(\"I48\", H[52], H[53])\n",
    "i52 = Node(\"I52\", H[24], H[20])\n",
    "i51 = Node(\"I51\", H[18], H[21])\n",
    "i49 = Node(\"I49\", H[47], H[39])\n",
    "i35 = Node(\"I35\", H[49], H[44])\n",
    "i36 = Node(\"I36\", H[40], H[50])\n",
    "i37 = Node(\"I37\", H[48], H[30])\n",
    "i38 = Node(\"I38\", H[15], H[28])\n",
    "\n",
    "i42 = Node(\"I42\", H[22], i43)\n",
    "i41 = Node(\"I41\", i42, i44)\n",
    "i26 = Node(\"I26\", i40, i41)\n",
    "i21 = Node(\"I21\", i39, H[46])\n",
    "i45 = Node(\"I45\", H[31], i46)\n",
    "i23 = Node(\"I23\", H[38], i27)\n",
    "i28 = Node(\"I28\", i47, i48)\n",
    "i50 = Node(\"I50\", i52, H[26])\n",
    "i29 = Node(\"I29\", i50, i51)\n",
    "i24 = Node(\"I24\", i29, i49)\n",
    "i20 = Node(\"I20\", i28, i24)\n",
    "i19 = Node(\"I19\", i23, i20)\n",
    "\n",
    "i22 = Node(\"I22\", i26, i45)\n",
    "i18 = Node(\"I18\", i21, i22)\n",
    "i17 = Node(\"I17\", i18, i19)\n",
    "\n",
    "i34 = Node(\"I34\", i35, H[37])\n",
    "i33 = Node(\"I33\", i34, i36)\n",
    "i32 = Node(\"I32\", H[29], i33)\n",
    "i30 = Node(\"I30\", H[10], i32)\n",
    "i31 = Node(\"I31\", i37, i38)\n",
    "i25 = Node(\"I25\", i30, i31)\n",
    "\n",
    "i16 = Node(\"I16\", i17, i25)\n",
    "i1 = Node(\"I1\", i2, i16)"
   ]
  },
  {
   "cell_type": "code",
   "execution_count": 24,
   "metadata": {},
   "outputs": [],
   "source": [
    "#Creates tree 2 from parismony video\n",
    "h1 = Node(\"H1\", None, None)\n",
    "h2 = Node(\"H2\", None, None)\n",
    "h3 = Node(\"H3\", None, None)\n",
    "h4 = Node(\"H4\", None, None)\n",
    "i3 = Node(\"I3\", h2, h3)\n",
    "i2 = Node(\"I2\", h1, i3)\n",
    "i1 = Node(\"I1\", i2, h4)\n",
    "root = i1"
   ]
  },
  {
   "cell_type": "code",
   "execution_count": 25,
   "metadata": {},
   "outputs": [],
   "source": [
    "def generate_newick(root, mapping = None):\n",
    "    ''' Complete this function. '''\n",
    "    def display(root): #this is from discussion\n",
    "        if root.right is None and root.left is None:\n",
    "            if mapping == None: \n",
    "                return str(root.name)\n",
    "            else: \n",
    "                return mapping[root]\n",
    "        elif root.right is None or root.left is None:\n",
    "            return '%s' % (generate_newick(display[root][0]))\n",
    "        [left_child, right_child] = [root.left, root.right]\n",
    "        return '(%s, %s)' % (display(left_child), display(right_child))\n",
    "    return display(root) + ';'"
   ]
  },
  {
   "cell_type": "code",
   "execution_count": 12,
   "metadata": {},
   "outputs": [
    {
     "data": {
      "text/plain": [
       "'((((H4, H6), H8), (((((H1, H5), H2), H19), H3), (H17, (((H16, H7), ((H11, H12), H13)), H14)))), (((((H33, H9), H46), (((H34, H43), ((H22, (H27, H35)), (H41, H32))), (H31, (H36, H42)))), ((H38, (H23, H25)), (((H45, H51), (H52, H53)), ((((H24, H20), H26), (H18, H21)), (H47, H39))))), ((H10, (H29, (((H49, H44), H37), (H40, H50)))), ((H48, H30), (H15, H28)))));'"
      ]
     },
     "execution_count": 12,
     "metadata": {},
     "output_type": "execute_result"
    }
   ],
   "source": [
    "generate_newick(i1)"
   ]
  },
  {
   "cell_type": "code",
   "execution_count": 21,
   "metadata": {},
   "outputs": [],
   "source": [
    "def make_a_copy(node):\n",
    "  if node == None:\n",
    "    return None\n",
    "  return Node(node.name, make_a_copy(node.left), make_a_copy(node.right))"
   ]
  },
  {
   "cell_type": "code",
   "execution_count": 26,
   "metadata": {},
   "outputs": [],
   "source": [
    "def get_neighbors(root):\n",
    "    # makes a copy of the tree (so we don't have to worry about static vs dynamic typing)\n",
    "    neighbors = []\n",
    "    def make_a_copy(node):\n",
    "        if node == None:\n",
    "            return None\n",
    "        return Node(node.name, make_a_copy(node.left), make_a_copy(node.right))\n",
    "    \n",
    "    copied_root = make_a_copy(root)\n",
    "\n",
    "    def recurse_tree(node):\n",
    "        if node == None or node.left == None or node.right == None:\n",
    "            return\n",
    "        node.left, node.right = node.right, node.left\n",
    "        neighbors.append(make_a_copy(copied_root))\n",
    "        recurse_tree(node.left)\n",
    "        recurse_tree(node.right)\n",
    "\n",
    "    recurse_tree(copied_root)\n",
    "    return neighbors"
   ]
  },
  {
   "cell_type": "code",
   "execution_count": 28,
   "metadata": {},
   "outputs": [
    {
     "name": "stdout",
     "output_type": "stream",
     "text": [
      "((H1, (H2, H3)), H4);\n",
      "((H1, (H2, H3)), H4);\n",
      "(H4, (H1, (H2, H3)));\n",
      "(H4, ((H2, H3), H1));\n",
      "(H4, ((H3, H2), H1));\n"
     ]
    }
   ],
   "source": [
    "print(generate_newick(root))\n",
    "lst = get_neighbors(root)\n",
    "print(generate_newick(root))\n",
    "for i in range(len(lst)):\n",
    "  print(generate_newick(lst[i]))"
   ]
  },
  {
   "cell_type": "code",
   "execution_count": null,
   "metadata": {},
   "outputs": [],
   "source": []
  },
  {
   "cell_type": "code",
   "execution_count": null,
   "metadata": {},
   "outputs": [],
   "source": []
  }
 ],
 "metadata": {
  "kernelspec": {
   "display_name": "Python 3",
   "language": "python",
   "name": "python3"
  },
  "language_info": {
   "codemirror_mode": {
    "name": "ipython",
    "version": 3
   },
   "file_extension": ".py",
   "mimetype": "text/x-python",
   "name": "python",
   "nbconvert_exporter": "python",
   "pygments_lexer": "ipython3",
   "version": "3.9.6"
  }
 },
 "nbformat": 4,
 "nbformat_minor": 2
}
